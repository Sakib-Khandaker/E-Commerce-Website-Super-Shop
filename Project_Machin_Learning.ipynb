{
  "nbformat": 4,
  "nbformat_minor": 0,
  "metadata": {
    "colab": {
      "provenance": [],
      "authorship_tag": "ABX9TyM8gbkxR3w27UKU8m85UMs8",
      "include_colab_link": true
    },
    "kernelspec": {
      "name": "python3",
      "display_name": "Python 3"
    },
    "language_info": {
      "name": "python"
    }
  },
  "cells": [
    {
      "cell_type": "markdown",
      "metadata": {
        "id": "view-in-github",
        "colab_type": "text"
      },
      "source": [
        "<a href=\"https://colab.research.google.com/github/Sakib-Khandaker/E-Commerce-Website-Super-Shop/blob/main/Project_Machin_Learning.ipynb\" target=\"_parent\"><img src=\"https://colab.research.google.com/assets/colab-badge.svg\" alt=\"Open In Colab\"/></a>"
      ]
    },
    {
      "cell_type": "markdown",
      "source": [
        "Sakib Khandakar\\\n",
        "Batch: 18"
      ],
      "metadata": {
        "id": "9cFxdn4Z9w5N"
      }
    },
    {
      "cell_type": "code",
      "execution_count": null,
      "metadata": {
        "colab": {
          "base_uri": "https://localhost:8080/"
        },
        "id": "K9Wlaqx5QNCT",
        "outputId": "a2a67b80-74ac-4e7a-d6b3-474ca25ed1f7"
      },
      "outputs": [
        {
          "output_type": "stream",
          "name": "stdout",
          "text": [
            "Mounted at /content/drive\n"
          ]
        }
      ],
      "source": [
        "from google.colab import drive\n",
        "drive.mount('/content/drive')"
      ]
    },
    {
      "cell_type": "code",
      "source": [
        "import os\n",
        "import torch\n",
        "import torch.nn as nn\n",
        "import torch.optim as optim\n",
        "from torchvision import datasets, transforms\n",
        "from torch.utils.data import DataLoader"
      ],
      "metadata": {
        "id": "Q8uXwjnsQfAj"
      },
      "execution_count": null,
      "outputs": []
    },
    {
      "cell_type": "code",
      "source": [
        "train_dir = \"/content/drive/MyDrive/Project_Photos/train\"\n",
        "val_dir = \"/content/drive/MyDrive/Project_Photos/test\""
      ],
      "metadata": {
        "id": "dRJbGA19QjxE"
      },
      "execution_count": null,
      "outputs": []
    },
    {
      "cell_type": "code",
      "source": [
        "train_transforms = transforms.Compose([\n",
        "    transforms.CenterCrop((128, 128)),\n",
        "    transforms.RandomHorizontalFlip(),\n",
        "    transforms.ToTensor(),\n",
        "    transforms.Normalize(mean=[0.485, 0.456, 0.406], std=[0.229, 0.224, 0.225]),\n",
        "])\n",
        "\n",
        "val_transforms = transforms.Compose([\n",
        "    transforms.CenterCrop((128, 128)),\n",
        "    transforms.ToTensor(),\n",
        "    transforms.Normalize(mean=[0.485, 0.456, 0.406], std=[0.229, 0.224, 0.225]),\n",
        "])\n",
        "\n",
        "train_dataset = datasets.ImageFolder(train_dir, transform=train_transforms)\n",
        "val_dataset = datasets.ImageFolder(val_dir, transform=val_transforms)\n",
        "\n",
        "train_loader = DataLoader(train_dataset, batch_size=16, shuffle=True)\n",
        "val_loader = DataLoader(val_dataset, batch_size=16, shuffle=False)"
      ],
      "metadata": {
        "id": "WIGUep9bQp3v"
      },
      "execution_count": null,
      "outputs": []
    },
    {
      "cell_type": "code",
      "source": [
        "class SimpleCNN(nn.Module):\n",
        "    def __init__(self):\n",
        "        super(SimpleCNN, self).__init__()\n",
        "        self.conv1 = nn.Conv2d(3, 32, kernel_size=3, padding=1)\n",
        "        self.conv2 = nn.Conv2d(32, 64, kernel_size=3, padding=1)\n",
        "        self.pool = nn.MaxPool2d(2, 2)\n",
        "        self.fc1 = nn.Linear(64 * 32 * 32, 128)\n",
        "        self.fc2 = nn.Linear(128, 12)\n",
        "        self.relu = nn.ReLU()\n",
        "\n",
        "    def forward(self, x):\n",
        "        x = self.pool(self.relu(self.conv1(x)))\n",
        "        x = self.pool(self.relu(self.conv2(x)))\n",
        "        x = x.view(-1, 64 * 32 * 32)\n",
        "        x = self.relu(self.fc1(x))\n",
        "        x = self.fc2(x)\n",
        "        return x"
      ],
      "metadata": {
        "id": "hqLKSdhEQvU1"
      },
      "execution_count": null,
      "outputs": []
    },
    {
      "cell_type": "code",
      "source": [
        "model = SimpleCNN()\n",
        "criterion = nn.CrossEntropyLoss()\n",
        "optimizer = optim.Adam(model.parameters(), lr=0.001)\n",
        "\n",
        "device = torch.device(\"cuda\" if torch.cuda.is_available() else \"cpu\")\n",
        "model.to(device)"
      ],
      "metadata": {
        "colab": {
          "base_uri": "https://localhost:8080/"
        },
        "id": "8hP544DPQysz",
        "outputId": "7bc3bc3d-7560-4928-c094-2b4303d68961"
      },
      "execution_count": null,
      "outputs": [
        {
          "output_type": "execute_result",
          "data": {
            "text/plain": [
              "SimpleCNN(\n",
              "  (conv1): Conv2d(3, 32, kernel_size=(3, 3), stride=(1, 1), padding=(1, 1))\n",
              "  (conv2): Conv2d(32, 64, kernel_size=(3, 3), stride=(1, 1), padding=(1, 1))\n",
              "  (pool): MaxPool2d(kernel_size=2, stride=2, padding=0, dilation=1, ceil_mode=False)\n",
              "  (fc1): Linear(in_features=65536, out_features=128, bias=True)\n",
              "  (fc2): Linear(in_features=128, out_features=12, bias=True)\n",
              "  (relu): ReLU()\n",
              ")"
            ]
          },
          "metadata": {},
          "execution_count": 6
        }
      ]
    },
    {
      "cell_type": "code",
      "source": [
        "num_epochs = 10\n",
        "iteration = 0\n",
        "\n",
        "for epoch in range(num_epochs):\n",
        "    print(f\"Epoch {epoch+1}/{num_epochs}\")\n",
        "    print(\"-\" * 20)\n",
        "\n",
        "    model.train()\n",
        "    running_loss = 0.0\n",
        "    correct = 0\n",
        "    total = 0\n",
        "\n",
        "\n",
        "    for inputs, labels in train_loader:\n",
        "        inputs, labels = inputs.to(device), labels.to(device)\n",
        "        iteration = iteration + 1\n",
        "\n",
        "\n",
        "        optimizer.zero_grad()\n",
        "\n",
        "\n",
        "        outputs = model(inputs)\n",
        "        loss = criterion(outputs, labels)\n",
        "        loss.backward()\n",
        "        optimizer.step()\n",
        "\n",
        "        print(f\"Loss: {loss.item():.4f}\")\n",
        "\n",
        "        running_loss += loss.item() * inputs.size(0)\n",
        "        _, predicted = torch.max(outputs, 1)\n",
        "        total += labels.size(0)\n",
        "        correct += (predicted == labels).sum().item()\n",
        "\n",
        "    epoch_loss = running_loss / len(train_dataset)\n",
        "    epoch_acc = correct / total\n",
        "    print(f\"Train Loss: {epoch_loss:.4f} Acc: {epoch_acc:.4f}\")\n",
        "\n",
        "torch.save(model.state_dict(), \"custom_image_classifier.pth\")\n",
        "print(\"Model training complete and saved.\")\n"
      ],
      "metadata": {
        "colab": {
          "base_uri": "https://localhost:8080/"
        },
        "id": "owK-VqAcQ2tB",
        "outputId": "29afcfd7-f59a-4af7-b40e-88e1f04337b8"
      },
      "execution_count": null,
      "outputs": [
        {
          "output_type": "stream",
          "name": "stdout",
          "text": [
            "Epoch 1/10\n",
            "--------------------\n",
            "Loss: 2.4747\n",
            "Loss: 1.4940\n",
            "Loss: 4.7204\n",
            "Loss: 5.1322\n",
            "Loss: 4.9727\n",
            "Loss: 1.9748\n",
            "Loss: 1.8665\n",
            "Train Loss: 3.4132 Acc: 0.3333\n",
            "Epoch 2/10\n",
            "--------------------\n",
            "Loss: 1.2773\n",
            "Loss: 1.8461\n",
            "Loss: 1.5680\n",
            "Loss: 1.7233\n",
            "Loss: 1.7807\n",
            "Loss: 1.6309\n",
            "Loss: 0.9423\n",
            "Train Loss: 1.6167 Acc: 0.3737\n",
            "Epoch 3/10\n",
            "--------------------\n",
            "Loss: 1.2047\n",
            "Loss: 1.3416\n",
            "Loss: 1.1529\n",
            "Loss: 1.6139\n",
            "Loss: 1.4164\n",
            "Loss: 1.6261\n",
            "Loss: 1.7821\n",
            "Train Loss: 1.4044 Acc: 0.5051\n",
            "Epoch 4/10\n",
            "--------------------\n",
            "Loss: 1.1575\n",
            "Loss: 1.7426\n",
            "Loss: 0.9534\n",
            "Loss: 0.5058\n",
            "Loss: 1.5793\n",
            "Loss: 1.1535\n",
            "Loss: 0.4992\n",
            "Train Loss: 1.1614 Acc: 0.5657\n",
            "Epoch 5/10\n",
            "--------------------\n",
            "Loss: 0.8175\n",
            "Loss: 0.9651\n",
            "Loss: 1.0890\n",
            "Loss: 1.0067\n",
            "Loss: 0.6545\n",
            "Loss: 0.9274\n",
            "Loss: 1.0275\n",
            "Train Loss: 0.9136 Acc: 0.6263\n",
            "Epoch 6/10\n",
            "--------------------\n",
            "Loss: 0.8590\n",
            "Loss: 0.8609\n",
            "Loss: 0.9339\n",
            "Loss: 0.8877\n",
            "Loss: 1.0396\n",
            "Loss: 0.7368\n",
            "Loss: 0.5101\n",
            "Train Loss: 0.8749 Acc: 0.6667\n",
            "Epoch 7/10\n",
            "--------------------\n",
            "Loss: 0.4331\n",
            "Loss: 0.9166\n",
            "Loss: 0.7422\n",
            "Loss: 0.7084\n",
            "Loss: 0.5111\n",
            "Loss: 0.8176\n",
            "Loss: 0.5627\n",
            "Train Loss: 0.6844 Acc: 0.7475\n",
            "Epoch 8/10\n",
            "--------------------\n",
            "Loss: 0.5031\n",
            "Loss: 0.6663\n",
            "Loss: 0.7557\n",
            "Loss: 0.6088\n",
            "Loss: 0.6745\n",
            "Loss: 0.4940\n",
            "Loss: 0.2629\n",
            "Train Loss: 0.6063 Acc: 0.7677\n",
            "Epoch 9/10\n",
            "--------------------\n",
            "Loss: 0.4249\n",
            "Loss: 0.6533\n",
            "Loss: 0.5119\n",
            "Loss: 0.4726\n",
            "Loss: 0.3625\n",
            "Loss: 0.3163\n",
            "Loss: 0.8821\n",
            "Train Loss: 0.4698 Acc: 0.8687\n",
            "Epoch 10/10\n",
            "--------------------\n",
            "Loss: 0.4535\n",
            "Loss: 0.2869\n",
            "Loss: 0.3478\n",
            "Loss: 0.3802\n",
            "Loss: 0.8794\n",
            "Loss: 0.3200\n",
            "Loss: 0.3165\n",
            "Train Loss: 0.4407 Acc: 0.8687\n",
            "Model training complete and saved.\n"
          ]
        }
      ]
    },
    {
      "cell_type": "code",
      "source": [
        "torch.save(model.state_dict(), \"custom_image_classifier.pth\")\n",
        "print(\"Model training complete and saved.\")\n"
      ],
      "metadata": {
        "colab": {
          "base_uri": "https://localhost:8080/"
        },
        "id": "X1uSJRdvREHX",
        "outputId": "a9483f4b-66b6-48f5-d7fc-32a3c40cf617"
      },
      "execution_count": null,
      "outputs": [
        {
          "output_type": "stream",
          "name": "stdout",
          "text": [
            "Model training complete and saved.\n"
          ]
        }
      ]
    },
    {
      "cell_type": "code",
      "source": [
        "model.eval()\n",
        "val_loss = 0.0\n",
        "val_correct = 0\n",
        "val_total = 0\n",
        "\n",
        "with torch.no_grad():\n",
        "    for inputs, labels in val_loader:\n",
        "        inputs, labels = inputs.to(device), labels.to(device)\n",
        "\n",
        "        outputs = model(inputs)\n",
        "        loss = criterion(outputs, labels)\n",
        "\n",
        "        val_loss += loss.item() * inputs.size(0)\n",
        "        _, predicted = torch.max(outputs, 1)\n",
        "        val_total += labels.size(0)\n",
        "        val_correct += (predicted == labels).sum().item()\n",
        "\n",
        "val_epoch_loss = val_loss / len(val_dataset)\n",
        "val_epoch_acc = val_correct / val_total\n",
        "print(f\"Val Loss: {val_epoch_loss:.4f} Acc: {val_epoch_acc:.4f}\")"
      ],
      "metadata": {
        "colab": {
          "base_uri": "https://localhost:8080/"
        },
        "id": "tgVAJ5sURIgF",
        "outputId": "a9db2a9f-7b9e-4e66-e463-028b1055c784"
      },
      "execution_count": null,
      "outputs": [
        {
          "output_type": "stream",
          "name": "stdout",
          "text": [
            "Val Loss: 1.5025 Acc: 0.5000\n"
          ]
        }
      ]
    }
  ]
}